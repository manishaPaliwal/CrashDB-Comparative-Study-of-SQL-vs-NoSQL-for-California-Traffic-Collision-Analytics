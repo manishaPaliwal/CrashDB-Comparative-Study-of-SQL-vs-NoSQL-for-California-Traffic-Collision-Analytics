{
 "cells": [
  {
   "cell_type": "code",
   "execution_count": 1,
   "id": "3e5d6442",
   "metadata": {},
   "outputs": [],
   "source": [
    "import pymysql\n",
    "import pandas as pd"
   ]
  },
  {
   "cell_type": "code",
   "execution_count": 2,
   "id": "9a425758",
   "metadata": {},
   "outputs": [],
   "source": [
    "db=pymysql.connect(host='californiatrafficcollisions.c8k33vneqnyf.us-west-1.rds.amazonaws.com',user='admin',password='admin1234')"
   ]
  },
  {
   "cell_type": "code",
   "execution_count": 3,
   "id": "16fa0d1a",
   "metadata": {},
   "outputs": [],
   "source": [
    "cursor = db.cursor();"
   ]
  },
  {
   "cell_type": "markdown",
   "id": "bdcd4349",
   "metadata": {},
   "source": [
    "#### Show Databases in awsrds"
   ]
  },
  {
   "cell_type": "code",
   "execution_count": 4,
   "id": "56feea9d",
   "metadata": {},
   "outputs": [
    {
     "name": "stdout",
     "output_type": "stream",
     "text": [
      "(('cal_road_accident_aws',), ('information_schema',), ('mysql',), ('performance_schema',), ('sys',))\n"
     ]
    }
   ],
   "source": [
    "cursor.execute('show databases;');\n",
    "show_db=cursor.fetchall();\n",
    "print(show_db);"
   ]
  },
  {
   "cell_type": "markdown",
   "id": "d161a3d4",
   "metadata": {},
   "source": [
    "#### Select query on collision table"
   ]
  },
  {
   "cell_type": "code",
   "execution_count": 5,
   "id": "7cbc938a",
   "metadata": {},
   "outputs": [
    {
     "name": "stdout",
     "output_type": "stream",
     "text": [
      "    case_id\n",
      "0   8008500\n",
      "1   8008532\n",
      "2   8008550\n",
      "3  80972854\n",
      "4  80976438\n"
     ]
    }
   ],
   "source": [
    "cursor.execute('select case_id from cal_road_accident_aws.collisions limit 5');\n",
    "\n",
    "select_collision=cursor.fetchall();\n",
    "dataframe_collision= pd.DataFrame(select_collision, columns=['case_id']);\n",
    "print(dataframe_collision);"
   ]
  },
  {
   "cell_type": "markdown",
   "id": "2119af1c",
   "metadata": {},
   "source": [
    "#### Select query on parties table"
   ]
  },
  {
   "cell_type": "code",
   "execution_count": 6,
   "id": "1a25dc2f",
   "metadata": {},
   "outputs": [
    {
     "name": "stdout",
     "output_type": "stream",
     "text": [
      "   case_id  party_number                      party_sobriety  \\\n",
      "0  0081715             1                      not applicable   \n",
      "1  0081715             2                      not applicable   \n",
      "2  0726202             1                  impairment unknown   \n",
      "3  8008483             1  had been drinking, under influence   \n",
      "4  8008483             2                      not applicable   \n",
      "\n",
      "   cellphone_in_use hazardous_materials    cellphone_use_type  \n",
      "0               0.0                None  cellphone not in use  \n",
      "1               0.0                None  cellphone not in use  \n",
      "2               NaN                None                  None  \n",
      "3               0.0                None  cellphone not in use  \n",
      "4               NaN                None                  None  \n"
     ]
    }
   ],
   "source": [
    "cursor.execute('select case_id,party_number,party_sobriety,cellphone_in_use,hazardous_materials,cellphone_use_type from cal_road_accident_aws.parties limit 5');\n",
    "select_parties=cursor.fetchall();\n",
    "dataframe_parties=pd.DataFrame(select_parties, columns=['case_id','party_number','party_sobriety','cellphone_in_use','hazardous_materials','cellphone_use_type']);\n",
    "print(dataframe_parties);"
   ]
  },
  {
   "cell_type": "markdown",
   "id": "bf327d9e",
   "metadata": {},
   "source": [
    "#### Select query on victims"
   ]
  },
  {
   "cell_type": "code",
   "execution_count": 7,
   "id": "e4f2474a",
   "metadata": {},
   "outputs": [
    {
     "name": "stdout",
     "output_type": "stream",
     "text": [
      "        id  case_id  party_number victim_role victim_sex victim_age\n",
      "0  3078083  8008484             2      driver       male         33\n",
      "1  3078084  8008484             2   passenger       male       None\n",
      "2  3078087  8008488             2      driver       male         26\n",
      "3  3078088  8008488             2   passenger     female         26\n",
      "4  3078090  8008491             1      driver     female         34\n"
     ]
    }
   ],
   "source": [
    "cursor.execute('SELECT id, case_id,party_number, victim_role, victim_sex, victim_age FROM cal_road_accident_aws.victims limit 5;');\n",
    "select_victims=cursor.fetchall();\n",
    "dataframe_victims=pd.DataFrame(select_victims, columns=['id', 'case_id','party_number', 'victim_role', 'victim_sex', 'victim_age']);\n",
    "print(dataframe_victims);"
   ]
  },
  {
   "cell_type": "markdown",
   "id": "77ff65fd",
   "metadata": {},
   "source": [
    "#### Analysis on sobriety of parties consuming alcohol "
   ]
  },
  {
   "cell_type": "code",
   "execution_count": 8,
   "id": "f928f7bd",
   "metadata": {},
   "outputs": [
    {
     "name": "stdout",
     "output_type": "stream",
     "text": [
      "   alcohol_involved                          party_sobriety  no. of collisions\n",
      "0                 1      had been drinking, under influence               5069\n",
      "1                 1                          not applicable               2311\n",
      "2                 1                   had not been drinking               3314\n",
      "3                 1                                    None                324\n",
      "4                 1   had been drinking, impairment unknown               1253\n",
      "5                 1  had been drinking, not under influence                874\n",
      "6                 1                      impairment unknown                225\n"
     ]
    }
   ],
   "source": [
    "cursor.execute('select c.alcohol_involved ,p.party_sobriety , count(*) from cal_road_accident_aws.collisions c join cal_road_accident_aws.parties p on c.case_id=p.case_id where c.alcohol_involved=1  group by c.alcohol_involved ,p.party_sobriety;');\n",
    "select_output=cursor.fetchall();\n",
    "dataframe_analysis_result=pd.DataFrame(select_output, columns=['alcohol_involved','party_sobriety','no. of collisions']);\n",
    "print(dataframe_analysis_result);"
   ]
  },
  {
   "cell_type": "code",
   "execution_count": null,
   "id": "fbb42f19",
   "metadata": {},
   "outputs": [],
   "source": []
  }
 ],
 "metadata": {
  "kernelspec": {
   "display_name": "Python 3",
   "language": "python",
   "name": "python3"
  },
  "language_info": {
   "codemirror_mode": {
    "name": "ipython",
    "version": 3
   },
   "file_extension": ".py",
   "mimetype": "text/x-python",
   "name": "python",
   "nbconvert_exporter": "python",
   "pygments_lexer": "ipython3",
   "version": "3.8.8"
  }
 },
 "nbformat": 4,
 "nbformat_minor": 5
}
